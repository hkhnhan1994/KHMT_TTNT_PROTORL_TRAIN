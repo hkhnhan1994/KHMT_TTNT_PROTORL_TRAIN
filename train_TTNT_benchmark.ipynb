{
  "cells": [
    {
      "cell_type": "markdown",
      "metadata": {
        "id": "view-in-github",
        "colab_type": "text"
      },
      "source": [
        "<a href=\"https://colab.research.google.com/github/hkhnhan1994/KHMT_TTNT_PROTORL_TRAIN/blob/main/train_TTNT_benchmark.ipynb\" target=\"_parent\"><img src=\"https://colab.research.google.com/assets/colab-badge.svg\" alt=\"Open In Colab\"/></a>"
      ]
    },
    {
      "cell_type": "code",
      "execution_count": 1,
      "metadata": {
        "id": "AgstIpNyU6BB",
        "colab": {
          "base_uri": "https://localhost:8080/"
        },
        "outputId": "d2ed1225-e3aa-48af-ab57-2fbc2b363ea9"
      },
      "outputs": [
        {
          "output_type": "stream",
          "name": "stdout",
          "text": [
            "Mounted at /content/gdrive\n",
            "/bin/bash: nvidia-smi: command not found\n"
          ]
        }
      ],
      "source": [
        "from google.colab import drive \n",
        "drive.mount('/content/gdrive')\n",
        "!nvidia-smi"
      ]
    },
    {
      "cell_type": "code",
      "execution_count": 2,
      "metadata": {
        "id": "6ywO2IxlenYy",
        "colab": {
          "base_uri": "https://localhost:8080/"
        },
        "outputId": "9177a196-5927-47b5-e6f8-0aca5907719a"
      },
      "outputs": [
        {
          "output_type": "stream",
          "name": "stdout",
          "text": [
            "/content/gdrive/MyDrive/Colab Notebooks\n"
          ]
        }
      ],
      "source": [
        "%cd /content/gdrive/MyDrive/Colab Notebooks/"
      ]
    },
    {
      "cell_type": "code",
      "execution_count": 3,
      "metadata": {
        "colab": {
          "base_uri": "https://localhost:8080/"
        },
        "id": "o7Gu-thMP9_f",
        "outputId": "dc1e80ff-8e24-493d-ed01-0bf7086be2a0"
      },
      "outputs": [
        {
          "output_type": "stream",
          "name": "stdout",
          "text": [
            "/content/gdrive/MyDrive/Colab Notebooks/KHMT_TTNT_PROTORL_TRAIN/Code\n"
          ]
        }
      ],
      "source": [
        "# !git clone https://github.com/hkhnhan1994/KHMT_TTNT_PROTORL_TRAIN.git\n",
        "%cd KHMT_TTNT_PROTORL_TRAIN/Code"
      ]
    },
    {
      "cell_type": "code",
      "source": [
        "%pwd"
      ],
      "metadata": {
        "colab": {
          "base_uri": "https://localhost:8080/",
          "height": 35
        },
        "id": "RnJihlia3NSP",
        "outputId": "0bb7af55-748d-4f7f-c69a-b3f3ac9726be"
      },
      "execution_count": null,
      "outputs": [
        {
          "output_type": "execute_result",
          "data": {
            "text/plain": [
              "'/content/gdrive/MyDrive/Colab Notebooks/KHMT_TTNT_PROTORL_TRAIN/Code'"
            ],
            "application/vnd.google.colaboratory.intrinsic+json": {
              "type": "string"
            }
          },
          "metadata": {},
          "execution_count": 17
        }
      ]
    },
    {
      "cell_type": "code",
      "execution_count": null,
      "metadata": {
        "id": "XUPkMDDmted2"
      },
      "outputs": [],
      "source": [
        "!pip install termcolor==1.1.0 \n",
        "!pip install dm-env\n",
        "!pip install scikit-learn\n",
        "!pip install dm-control\n",
        "!pip install deepmind\n",
        "!pip install torchvision mujoco_py\n",
        "!pip install tb-nightly imageio==2.9.0 imageio-ffmpeg==0.4.4 hydra-core==1.1.0 hydra-submitit-launcher==1.1.5 pandas==1.3.0 ipdb==0.13.9 yapf==0.31.0\n",
        "!pip install mujoco_py==2.0.2.13 scikit-learn matplotlib==3.4.2\n",
        "!pip install  opencv-python==4.5.3.56\n",
        "!pip install  wandb==0.11.1\n",
        "!pip install  moviepy==1.0.3\n",
        "!pip install protobuf==3.19.6\n",
        "!pip install numpy==1.23.5"
      ]
    },
    {
      "cell_type": "code",
      "execution_count": null,
      "metadata": {
        "id": "KVt_U13sCVEk"
      },
      "outputs": [],
      "source": [
        "#pretrain: already pretrain with 100k and 250k steps (snapshot_ts)\n",
        "!python3 pretrain.py agent=proto domain=jaco"
      ]
    },
    {
      "cell_type": "code",
      "execution_count": null,
      "metadata": {
        "id": "0GOEcu5Tkasn"
      },
      "outputs": [],
      "source": [
        "#downstream train\n",
        "#task:\n",
        "# JACO_TASKS = [\n",
        "#     'jaco_reach_top_left',\n",
        "#     'jaco_reach_top_right',\n",
        "#     'jaco_reach_bottom_left',\n",
        "#     'jaco_reach_bottom_right',\n",
        "# ]\n",
        "# snapshot_ts=100000 or 250000\n",
        "!python3 finetune.py agent=proto  task=jaco_reach_top_left snapshot_ts=250000 obs_type=states"
      ]
    },
    {
      "cell_type": "code",
      "execution_count": null,
      "metadata": {
        "id": "TWgRVLyukpiD",
        "colab": {
          "base_uri": "https://localhost:8080/"
        },
        "outputId": "eb51e123-cf0f-4833-e1ec-cad00593cf12"
      },
      "outputs": [
        {
          "output_type": "stream",
          "name": "stdout",
          "text": [
            "| \u001b[32meval\u001b[0m  | F: 530000 | S: 530000 | E: 2128 | L: 249 | R: 13.0069 | T: 3:16:57\n",
            "| \u001b[33mtrain\u001b[0m | F: 530121 | S: 530121 | E: 2129 | L: 249 | R: 86.4096 | FPS: 8.3036 | T: 3:17:25\n",
            "| \u001b[33mtrain\u001b[0m | F: 530370 | S: 530370 | E: 2130 | L: 249 | R: 0.0168 | FPS: 56.6633 | T: 3:17:29\n",
            "| \u001b[33mtrain\u001b[0m | F: 530619 | S: 530619 | E: 2131 | L: 249 | R: 0.0000 | FPS: 47.8999 | T: 3:17:34\n",
            "| \u001b[33mtrain\u001b[0m | F: 530868 | S: 530868 | E: 2132 | L: 249 | R: 5.3188 | FPS: 47.1071 | T: 3:17:40\n",
            "| \u001b[33mtrain\u001b[0m | F: 531117 | S: 531117 | E: 2133 | L: 249 | R: 0.0000 | FPS: 55.3290 | T: 3:17:44\n",
            "| \u001b[33mtrain\u001b[0m | F: 531366 | S: 531366 | E: 2134 | L: 249 | R: 26.9203 | FPS: 56.3404 | T: 3:17:49\n",
            "| \u001b[33mtrain\u001b[0m | F: 531615 | S: 531615 | E: 2135 | L: 249 | R: 2.7724 | FPS: 46.3166 | T: 3:17:54\n",
            "| \u001b[33mtrain\u001b[0m | F: 531864 | S: 531864 | E: 2136 | L: 249 | R: 0.0000 | FPS: 46.5019 | T: 3:17:59\n",
            "| \u001b[33mtrain\u001b[0m | F: 532113 | S: 532113 | E: 2137 | L: 249 | R: 24.5130 | FPS: 55.4175 | T: 3:18:04\n",
            "| \u001b[33mtrain\u001b[0m | F: 532362 | S: 532362 | E: 2138 | L: 249 | R: 0.0000 | FPS: 55.2939 | T: 3:18:08\n",
            "| \u001b[33mtrain\u001b[0m | F: 532611 | S: 532611 | E: 2139 | L: 249 | R: 0.0000 | FPS: 44.2548 | T: 3:18:14\n",
            "| \u001b[33mtrain\u001b[0m | F: 532860 | S: 532860 | E: 2140 | L: 249 | R: 12.5076 | FPS: 49.3575 | T: 3:18:19\n",
            "| \u001b[33mtrain\u001b[0m | F: 533109 | S: 533109 | E: 2141 | L: 249 | R: 14.2007 | FPS: 55.3318 | T: 3:18:23\n",
            "| \u001b[33mtrain\u001b[0m | F: 533358 | S: 533358 | E: 2142 | L: 249 | R: 0.0000 | FPS: 51.5640 | T: 3:18:28\n",
            "| \u001b[33mtrain\u001b[0m | F: 533607 | S: 533607 | E: 2143 | L: 249 | R: 105.1958 | FPS: 43.4512 | T: 3:18:34\n",
            "| \u001b[33mtrain\u001b[0m | F: 533856 | S: 533856 | E: 2144 | L: 249 | R: 0.0307 | FPS: 50.2530 | T: 3:18:39\n",
            "| \u001b[33mtrain\u001b[0m | F: 534105 | S: 534105 | E: 2145 | L: 249 | R: 79.2369 | FPS: 52.8712 | T: 3:18:44\n",
            "| \u001b[33mtrain\u001b[0m | F: 534354 | S: 534354 | E: 2146 | L: 249 | R: 9.8852 | FPS: 49.0157 | T: 3:18:49\n",
            "| \u001b[33mtrain\u001b[0m | F: 534603 | S: 534603 | E: 2147 | L: 249 | R: 0.0059 | FPS: 45.0677 | T: 3:18:54\n",
            "| \u001b[33mtrain\u001b[0m | F: 534852 | S: 534852 | E: 2148 | L: 249 | R: 0.0000 | FPS: 52.1223 | T: 3:18:59\n",
            "| \u001b[33mtrain\u001b[0m | F: 535101 | S: 535101 | E: 2149 | L: 249 | R: 7.5353 | FPS: 53.3785 | T: 3:19:04\n",
            "| \u001b[33mtrain\u001b[0m | F: 535350 | S: 535350 | E: 2150 | L: 249 | R: 14.3736 | FPS: 47.3332 | T: 3:19:09\n",
            "| \u001b[33mtrain\u001b[0m | F: 535599 | S: 535599 | E: 2151 | L: 249 | R: 0.0000 | FPS: 44.7549 | T: 3:19:15\n",
            "| \u001b[33mtrain\u001b[0m | F: 535848 | S: 535848 | E: 2152 | L: 249 | R: 0.0000 | FPS: 51.9827 | T: 3:19:19\n",
            "| \u001b[33mtrain\u001b[0m | F: 536097 | S: 536097 | E: 2153 | L: 249 | R: 0.0000 | FPS: 54.3782 | T: 3:19:24\n",
            "| \u001b[33mtrain\u001b[0m | F: 536346 | S: 536346 | E: 2154 | L: 249 | R: 0.0000 | FPS: 46.2679 | T: 3:19:29\n",
            "| \u001b[33mtrain\u001b[0m | F: 536595 | S: 536595 | E: 2155 | L: 249 | R: 0.0000 | FPS: 45.3208 | T: 3:19:35\n",
            "| \u001b[33mtrain\u001b[0m | F: 536844 | S: 536844 | E: 2156 | L: 249 | R: 0.0000 | FPS: 52.6623 | T: 3:19:39\n",
            "| \u001b[33mtrain\u001b[0m | F: 537093 | S: 537093 | E: 2157 | L: 249 | R: 0.2701 | FPS: 53.4378 | T: 3:19:44\n",
            "| \u001b[33mtrain\u001b[0m | F: 537342 | S: 537342 | E: 2158 | L: 249 | R: 0.0000 | FPS: 45.4427 | T: 3:19:50\n",
            "| \u001b[33mtrain\u001b[0m | F: 537591 | S: 537591 | E: 2159 | L: 249 | R: 0.0000 | FPS: 48.5713 | T: 3:19:55\n",
            "| \u001b[33mtrain\u001b[0m | F: 537840 | S: 537840 | E: 2160 | L: 249 | R: 35.1051 | FPS: 54.7867 | T: 3:19:59\n",
            "| \u001b[33mtrain\u001b[0m | F: 538089 | S: 538089 | E: 2161 | L: 249 | R: 0.0000 | FPS: 55.3824 | T: 3:20:04\n",
            "| \u001b[33mtrain\u001b[0m | F: 538338 | S: 538338 | E: 2162 | L: 249 | R: 14.6850 | FPS: 45.2701 | T: 3:20:09\n",
            "| \u001b[33mtrain\u001b[0m | F: 538587 | S: 538587 | E: 2163 | L: 249 | R: 202.2984 | FPS: 45.6747 | T: 3:20:15\n",
            "| \u001b[33mtrain\u001b[0m | F: 538836 | S: 538836 | E: 2164 | L: 249 | R: 0.0000 | FPS: 54.9429 | T: 3:20:19\n",
            "| \u001b[33mtrain\u001b[0m | F: 539085 | S: 539085 | E: 2165 | L: 249 | R: 0.0404 | FPS: 54.6431 | T: 3:20:24\n",
            "| \u001b[33mtrain\u001b[0m | F: 539334 | S: 539334 | E: 2166 | L: 249 | R: 0.3329 | FPS: 44.1258 | T: 3:20:29\n",
            "| \u001b[33mtrain\u001b[0m | F: 539583 | S: 539583 | E: 2167 | L: 249 | R: 29.9350 | FPS: 48.2997 | T: 3:20:35\n",
            "| \u001b[33mtrain\u001b[0m | F: 539832 | S: 539832 | E: 2168 | L: 249 | R: 0.0000 | FPS: 54.8771 | T: 3:20:39\n",
            "| \u001b[32meval\u001b[0m  | F: 540000 | S: 540000 | E: 2168 | L: 249 | R: 16.5661 | T: 3:20:42\n",
            "| \u001b[33mtrain\u001b[0m | F: 540081 | S: 540081 | E: 2169 | L: 249 | R: 15.6057 | FPS: 7.9777 | T: 3:21:10\n",
            "[2023-04-08 12:01:44,882][absl][WARNING] - Failed to converge after 99 steps: err_norm=0.26131\n",
            "| \u001b[33mtrain\u001b[0m | F: 540330 | S: 540330 | E: 2170 | L: 249 | R: 0.0041 | FPS: 51.8501 | T: 3:21:15\n",
            "| \u001b[33mtrain\u001b[0m | F: 540579 | S: 540579 | E: 2171 | L: 249 | R: 32.0124 | FPS: 44.0321 | T: 3:21:21\n",
            "| \u001b[33mtrain\u001b[0m | F: 540828 | S: 540828 | E: 2172 | L: 249 | R: 0.5673 | FPS: 48.1238 | T: 3:21:26\n",
            "| \u001b[33mtrain\u001b[0m | F: 541077 | S: 541077 | E: 2173 | L: 249 | R: 0.0103 | FPS: 55.2331 | T: 3:21:31\n",
            "| \u001b[33mtrain\u001b[0m | F: 541326 | S: 541326 | E: 2174 | L: 249 | R: 0.0594 | FPS: 53.7034 | T: 3:21:35\n",
            "| \u001b[33mtrain\u001b[0m | F: 541575 | S: 541575 | E: 2175 | L: 249 | R: 0.0204 | FPS: 44.7226 | T: 3:21:41\n",
            "| \u001b[33mtrain\u001b[0m | F: 541824 | S: 541824 | E: 2176 | L: 249 | R: 41.8316 | FPS: 49.4847 | T: 3:21:46\n",
            "| \u001b[33mtrain\u001b[0m | F: 542073 | S: 542073 | E: 2177 | L: 249 | R: 19.4359 | FPS: 51.9834 | T: 3:21:51\n",
            "| \u001b[33mtrain\u001b[0m | F: 542322 | S: 542322 | E: 2178 | L: 249 | R: 0.0001 | FPS: 52.2917 | T: 3:21:55\n",
            "| \u001b[33mtrain\u001b[0m | F: 542571 | S: 542571 | E: 2179 | L: 249 | R: 0.0000 | FPS: 45.1534 | T: 3:22:01\n",
            "| \u001b[33mtrain\u001b[0m | F: 542820 | S: 542820 | E: 2180 | L: 249 | R: 35.8073 | FPS: 51.2251 | T: 3:22:06\n",
            "| \u001b[33mtrain\u001b[0m | F: 543069 | S: 543069 | E: 2181 | L: 249 | R: 0.0000 | FPS: 54.8743 | T: 3:22:10\n",
            "| \u001b[33mtrain\u001b[0m | F: 543318 | S: 543318 | E: 2182 | L: 249 | R: 0.0043 | FPS: 49.4739 | T: 3:22:15\n",
            "| \u001b[33mtrain\u001b[0m | F: 543567 | S: 543567 | E: 2183 | L: 249 | R: 0.0000 | FPS: 44.6660 | T: 3:22:21\n",
            "| \u001b[33mtrain\u001b[0m | F: 543816 | S: 543816 | E: 2184 | L: 249 | R: 0.0036 | FPS: 50.3561 | T: 3:22:26\n",
            "| \u001b[33mtrain\u001b[0m | F: 544065 | S: 544065 | E: 2185 | L: 249 | R: 54.9907 | FPS: 52.4081 | T: 3:22:31\n",
            "| \u001b[33mtrain\u001b[0m | F: 544314 | S: 544314 | E: 2186 | L: 249 | R: 0.0790 | FPS: 47.0362 | T: 3:22:36\n",
            "| \u001b[33mtrain\u001b[0m | F: 544563 | S: 544563 | E: 2187 | L: 249 | R: 26.3263 | FPS: 46.3789 | T: 3:22:41\n",
            "| \u001b[33mtrain\u001b[0m | F: 544812 | S: 544812 | E: 2188 | L: 249 | R: 0.0000 | FPS: 56.2525 | T: 3:22:46\n",
            "| \u001b[33mtrain\u001b[0m | F: 545061 | S: 545061 | E: 2189 | L: 249 | R: 0.0000 | FPS: 54.3880 | T: 3:22:50\n",
            "| \u001b[33mtrain\u001b[0m | F: 545310 | S: 545310 | E: 2190 | L: 249 | R: 0.0019 | FPS: 45.3468 | T: 3:22:56\n",
            "| \u001b[33mtrain\u001b[0m | F: 545559 | S: 545559 | E: 2191 | L: 249 | R: 0.0000 | FPS: 44.6529 | T: 3:23:01\n",
            "| \u001b[33mtrain\u001b[0m | F: 545808 | S: 545808 | E: 2192 | L: 249 | R: 0.0006 | FPS: 55.3461 | T: 3:23:06\n",
            "| \u001b[33mtrain\u001b[0m | F: 546057 | S: 546057 | E: 2193 | L: 249 | R: 0.0008 | FPS: 54.6015 | T: 3:23:10\n",
            "| \u001b[33mtrain\u001b[0m | F: 546306 | S: 546306 | E: 2194 | L: 249 | R: 55.8394 | FPS: 44.3631 | T: 3:23:16\n",
            "| \u001b[33mtrain\u001b[0m | F: 546555 | S: 546555 | E: 2195 | L: 249 | R: 0.0017 | FPS: 46.6010 | T: 3:23:21\n",
            "| \u001b[33mtrain\u001b[0m | F: 546804 | S: 546804 | E: 2196 | L: 249 | R: 35.1034 | FPS: 54.6167 | T: 3:23:26\n",
            "| \u001b[33mtrain\u001b[0m | F: 547053 | S: 547053 | E: 2197 | L: 249 | R: 0.0055 | FPS: 54.7877 | T: 3:23:30\n",
            "| \u001b[33mtrain\u001b[0m | F: 547302 | S: 547302 | E: 2198 | L: 249 | R: 0.0000 | FPS: 43.1631 | T: 3:23:36\n",
            "| \u001b[33mtrain\u001b[0m | F: 547551 | S: 547551 | E: 2199 | L: 249 | R: 41.5229 | FPS: 49.9401 | T: 3:23:41\n",
            "| \u001b[33mtrain\u001b[0m | F: 547800 | S: 547800 | E: 2200 | L: 249 | R: 0.0000 | FPS: 53.7601 | T: 3:23:46\n",
            "| \u001b[33mtrain\u001b[0m | F: 548049 | S: 548049 | E: 2201 | L: 249 | R: 40.6766 | FPS: 49.7588 | T: 3:23:51\n",
            "| \u001b[33mtrain\u001b[0m | F: 548298 | S: 548298 | E: 2202 | L: 249 | R: 0.0000 | FPS: 44.2640 | T: 3:23:56\n",
            "| \u001b[33mtrain\u001b[0m | F: 548547 | S: 548547 | E: 2203 | L: 249 | R: 0.0003 | FPS: 50.4279 | T: 3:24:01\n",
            "| \u001b[33mtrain\u001b[0m | F: 548796 | S: 548796 | E: 2204 | L: 249 | R: 0.0054 | FPS: 54.4179 | T: 3:24:06\n",
            "| \u001b[33mtrain\u001b[0m | F: 549045 | S: 549045 | E: 2205 | L: 249 | R: 0.0000 | FPS: 46.4382 | T: 3:24:11\n",
            "| \u001b[33mtrain\u001b[0m | F: 549294 | S: 549294 | E: 2206 | L: 249 | R: 0.0000 | FPS: 44.9842 | T: 3:24:17\n",
            "| \u001b[33mtrain\u001b[0m | F: 549543 | S: 549543 | E: 2207 | L: 249 | R: 0.1557 | FPS: 50.5380 | T: 3:24:22\n",
            "| \u001b[33mtrain\u001b[0m | F: 549792 | S: 549792 | E: 2208 | L: 249 | R: 0.0000 | FPS: 54.4943 | T: 3:24:26\n",
            "| \u001b[32meval\u001b[0m  | F: 550000 | S: 550000 | E: 2208 | L: 249 | R: 23.2535 | T: 3:24:31\n",
            "| \u001b[33mtrain\u001b[0m | F: 550041 | S: 550041 | E: 2209 | L: 249 | R: 36.3285 | FPS: 7.9156 | T: 3:24:58\n",
            "| \u001b[33mtrain\u001b[0m | F: 550290 | S: 550290 | E: 2210 | L: 249 | R: 40.8320 | FPS: 53.1867 | T: 3:25:02\n",
            "| \u001b[33mtrain\u001b[0m | F: 550539 | S: 550539 | E: 2211 | L: 249 | R: 0.0028 | FPS: 43.8976 | T: 3:25:08\n",
            "| \u001b[33mtrain\u001b[0m | F: 550788 | S: 550788 | E: 2212 | L: 249 | R: 3.2899 | FPS: 49.2953 | T: 3:25:13\n",
            "[2023-04-08 12:05:47,654][absl][WARNING] - Failed to converge after 99 steps: err_norm=0.319268\n",
            "| \u001b[33mtrain\u001b[0m | F: 551037 | S: 551037 | E: 2213 | L: 249 | R: 2.0388 | FPS: 54.4546 | T: 3:25:18\n",
            "| \u001b[33mtrain\u001b[0m | F: 551286 | S: 551286 | E: 2214 | L: 249 | R: 0.0000 | FPS: 50.2451 | T: 3:25:23\n",
            "| \u001b[33mtrain\u001b[0m | F: 551535 | S: 551535 | E: 2215 | L: 249 | R: 30.7804 | FPS: 45.9647 | T: 3:25:28\n",
            "| \u001b[33mtrain\u001b[0m | F: 551784 | S: 551784 | E: 2216 | L: 249 | R: 6.5166 | FPS: 49.4819 | T: 3:25:33\n",
            "| \u001b[33mtrain\u001b[0m | F: 552033 | S: 552033 | E: 2217 | L: 249 | R: 1.4503 | FPS: 53.8346 | T: 3:25:38\n",
            "| \u001b[33mtrain\u001b[0m | F: 552282 | S: 552282 | E: 2218 | L: 249 | R: 0.0000 | FPS: 48.6175 | T: 3:25:43\n",
            "| \u001b[33mtrain\u001b[0m | F: 552531 | S: 552531 | E: 2219 | L: 249 | R: 0.0000 | FPS: 45.3094 | T: 3:25:48\n",
            "| \u001b[33mtrain\u001b[0m | F: 552780 | S: 552780 | E: 2220 | L: 249 | R: 0.0000 | FPS: 52.6651 | T: 3:25:53\n",
            "| \u001b[33mtrain\u001b[0m | F: 553029 | S: 553029 | E: 2221 | L: 249 | R: 62.0019 | FPS: 55.1076 | T: 3:25:58\n",
            "| \u001b[33mtrain\u001b[0m | F: 553278 | S: 553278 | E: 2222 | L: 249 | R: 0.0000 | FPS: 48.0243 | T: 3:26:03\n",
            "| \u001b[33mtrain\u001b[0m | F: 553527 | S: 553527 | E: 2223 | L: 249 | R: 0.0000 | FPS: 46.9110 | T: 3:26:08\n",
            "| \u001b[33mtrain\u001b[0m | F: 553776 | S: 553776 | E: 2224 | L: 249 | R: 15.2166 | FPS: 53.8526 | T: 3:26:13\n",
            "| \u001b[33mtrain\u001b[0m | F: 554025 | S: 554025 | E: 2225 | L: 249 | R: 0.0002 | FPS: 51.8687 | T: 3:26:18\n",
            "| \u001b[33mtrain\u001b[0m | F: 554274 | S: 554274 | E: 2226 | L: 249 | R: 0.0000 | FPS: 43.2493 | T: 3:26:23\n",
            "| \u001b[33mtrain\u001b[0m | F: 554523 | S: 554523 | E: 2227 | L: 249 | R: 78.6825 | FPS: 47.8380 | T: 3:26:29\n",
            "| \u001b[33mtrain\u001b[0m | F: 554772 | S: 554772 | E: 2228 | L: 249 | R: 12.6091 | FPS: 55.0725 | T: 3:26:33\n",
            "| \u001b[33mtrain\u001b[0m | F: 555021 | S: 555021 | E: 2229 | L: 249 | R: 55.3813 | FPS: 53.1287 | T: 3:26:38\n",
            "| \u001b[33mtrain\u001b[0m | F: 555270 | S: 555270 | E: 2230 | L: 249 | R: 0.0000 | FPS: 45.1604 | T: 3:26:43\n",
            "| \u001b[33mtrain\u001b[0m | F: 555519 | S: 555519 | E: 2231 | L: 249 | R: 0.0000 | FPS: 49.0867 | T: 3:26:48\n",
            "| \u001b[33mtrain\u001b[0m | F: 555768 | S: 555768 | E: 2232 | L: 249 | R: 0.0000 | FPS: 52.7880 | T: 3:26:53\n",
            "| \u001b[33mtrain\u001b[0m | F: 556017 | S: 556017 | E: 2233 | L: 249 | R: 8.3426 | FPS: 51.2057 | T: 3:26:58\n",
            "| \u001b[33mtrain\u001b[0m | F: 556266 | S: 556266 | E: 2234 | L: 249 | R: 0.0039 | FPS: 43.9753 | T: 3:27:04\n",
            "| \u001b[33mtrain\u001b[0m | F: 556515 | S: 556515 | E: 2235 | L: 249 | R: 0.0005 | FPS: 50.2687 | T: 3:27:08\n",
            "| \u001b[33mtrain\u001b[0m | F: 556764 | S: 556764 | E: 2236 | L: 249 | R: 0.4904 | FPS: 55.2971 | T: 3:27:13\n",
            "| \u001b[33mtrain\u001b[0m | F: 557013 | S: 557013 | E: 2237 | L: 249 | R: 0.0000 | FPS: 50.0966 | T: 3:27:18\n",
            "| \u001b[33mtrain\u001b[0m | F: 557262 | S: 557262 | E: 2238 | L: 249 | R: 42.8344 | FPS: 44.0231 | T: 3:27:24\n",
            "| \u001b[33mtrain\u001b[0m | F: 557511 | S: 557511 | E: 2239 | L: 249 | R: 26.4521 | FPS: 52.0125 | T: 3:27:28\n",
            "| \u001b[33mtrain\u001b[0m | F: 557760 | S: 557760 | E: 2240 | L: 249 | R: 105.7984 | FPS: 54.7231 | T: 3:27:33\n",
            "| \u001b[33mtrain\u001b[0m | F: 558009 | S: 558009 | E: 2241 | L: 249 | R: 0.0000 | FPS: 47.9408 | T: 3:27:38\n",
            "| \u001b[33mtrain\u001b[0m | F: 558258 | S: 558258 | E: 2242 | L: 249 | R: 0.0105 | FPS: 44.5579 | T: 3:27:44\n",
            "| \u001b[33mtrain\u001b[0m | F: 558507 | S: 558507 | E: 2243 | L: 249 | R: 0.0010 | FPS: 54.2825 | T: 3:27:48\n",
            "| \u001b[33mtrain\u001b[0m | F: 558756 | S: 558756 | E: 2244 | L: 249 | R: 0.0000 | FPS: 54.2764 | T: 3:27:53\n",
            "| \u001b[33mtrain\u001b[0m | F: 559005 | S: 559005 | E: 2245 | L: 249 | R: 0.0000 | FPS: 44.0255 | T: 3:27:59\n",
            "| \u001b[33mtrain\u001b[0m | F: 559254 | S: 559254 | E: 2246 | L: 249 | R: 0.0330 | FPS: 47.8407 | T: 3:28:04\n",
            "| \u001b[33mtrain\u001b[0m | F: 559503 | S: 559503 | E: 2247 | L: 249 | R: 0.0026 | FPS: 53.8200 | T: 3:28:08\n",
            "| \u001b[33mtrain\u001b[0m | F: 559752 | S: 559752 | E: 2248 | L: 249 | R: 0.0000 | FPS: 53.2777 | T: 3:28:13\n",
            "[2023-04-08 12:09:15,169][absl][WARNING] - Failed to converge after 99 steps: err_norm=0.323468\n",
            "| \u001b[32meval\u001b[0m  | F: 560000 | S: 560000 | E: 2248 | L: 249 | R: 6.0120 | T: 3:28:19\n",
            "| \u001b[33mtrain\u001b[0m | F: 560001 | S: 560001 | E: 2249 | L: 249 | R: 0.0000 | FPS: 7.9905 | T: 3:28:44\n",
            "| \u001b[33mtrain\u001b[0m | F: 560250 | S: 560250 | E: 2250 | L: 249 | R: 0.0000 | FPS: 50.5403 | T: 3:28:49\n",
            "| \u001b[33mtrain\u001b[0m | F: 560499 | S: 560499 | E: 2251 | L: 249 | R: 0.0000 | FPS: 43.3263 | T: 3:28:55\n",
            "| \u001b[33mtrain\u001b[0m | F: 560748 | S: 560748 | E: 2252 | L: 249 | R: 0.4635 | FPS: 51.3081 | T: 3:29:00\n",
            "| \u001b[33mtrain\u001b[0m | F: 560997 | S: 560997 | E: 2253 | L: 249 | R: 25.2158 | FPS: 54.6872 | T: 3:29:04\n",
            "| \u001b[33mtrain\u001b[0m | F: 561246 | S: 561246 | E: 2254 | L: 249 | R: 0.0000 | FPS: 47.9963 | T: 3:29:10\n",
            "| \u001b[33mtrain\u001b[0m | F: 561495 | S: 561495 | E: 2255 | L: 249 | R: 0.0000 | FPS: 44.7059 | T: 3:29:15\n",
            "| \u001b[33mtrain\u001b[0m | F: 561744 | S: 561744 | E: 2256 | L: 249 | R: 0.0000 | FPS: 52.5463 | T: 3:29:20\n",
            "| \u001b[33mtrain\u001b[0m | F: 561993 | S: 561993 | E: 2257 | L: 249 | R: 0.0000 | FPS: 54.6141 | T: 3:29:24\n",
            "| \u001b[33mtrain\u001b[0m | F: 562242 | S: 562242 | E: 2258 | L: 249 | R: 204.1400 | FPS: 46.9018 | T: 3:29:30\n",
            "| \u001b[33mtrain\u001b[0m | F: 562491 | S: 562491 | E: 2259 | L: 249 | R: 1.4824 | FPS: 47.4463 | T: 3:29:35\n",
            "| \u001b[33mtrain\u001b[0m | F: 562740 | S: 562740 | E: 2260 | L: 249 | R: 0.0112 | FPS: 50.6347 | T: 3:29:40\n",
            "| \u001b[33mtrain\u001b[0m | F: 562989 | S: 562989 | E: 2261 | L: 249 | R: 0.5078 | FPS: 54.5850 | T: 3:29:44\n",
            "| \u001b[33mtrain\u001b[0m | F: 563238 | S: 563238 | E: 2262 | L: 249 | R: 0.0000 | FPS: 46.5764 | T: 3:29:50\n",
            "| \u001b[33mtrain\u001b[0m | F: 563487 | S: 563487 | E: 2263 | L: 249 | R: 0.0000 | FPS: 47.1338 | T: 3:29:55\n",
            "| \u001b[33mtrain\u001b[0m | F: 563736 | S: 563736 | E: 2264 | L: 249 | R: 0.0000 | FPS: 53.2038 | T: 3:30:00\n",
            "| \u001b[33mtrain\u001b[0m | F: 563985 | S: 563985 | E: 2265 | L: 249 | R: 27.1448 | FPS: 53.3430 | T: 3:30:04\n"
          ]
        }
      ],
      "source": [
        "!python3 finetune.py task=jaco_reach_top_left snapshot_ts=250000 obs_type=states agent=proto reward_free=true"
      ]
    },
    {
      "cell_type": "code",
      "execution_count": null,
      "metadata": {
        "id": "LhBU6cH8uO_x"
      },
      "outputs": [],
      "source": [
        "# %load_ext tensorboard\n",
        "%reload_ext tensorboard\n",
        "%tensorboard --logdir=exp_local"
      ]
    },
    {
      "cell_type": "code",
      "execution_count": null,
      "metadata": {
        "id": "-I4IfXmSdQ26"
      },
      "outputs": [],
      "source": [
        "# if tensorboard is running,kill tensorboard before reloading it\n",
        "# !kill $(ps -e | grep 'tensorboard' | awk '{print $1}')"
      ]
    },
    {
      "cell_type": "code",
      "execution_count": null,
      "metadata": {
        "id": "SvLUkurMc5vA"
      },
      "outputs": [],
      "source": [
        "# add to browser insopect to keep colab running\n",
        "# function ClickConnect() {\n",
        "#     console.log(\"Working\");\n",
        "#     document.querySelector(\"paper-icon-button\").click()\n",
        "# }\n",
        "# setInterval(ClickConnect, 60000);"
      ]
    },
    {
      "cell_type": "code",
      "execution_count": null,
      "metadata": {
        "id": "l-TuW9nmTG_z"
      },
      "outputs": [],
      "source": [
        "## incolabm conda, cuda toolkit are already installed\n",
        "#################################################################################\n",
        "# INSTALL MAMBA ON GOOGLE COLAB\n",
        "#################################################################################\n",
        "# !pip install -q condacolab\n",
        "# import condacolab\n",
        "# condacolab.install()\n",
        "# ! conda install -y mamba\n",
        "# ! mamba update -qy --all\n",
        "# ! mamba clean -qafy\n",
        "# import sys\n",
        "# sys.path.append('/usr/local/lib/python3.7/site-packages/')"
      ]
    },
    {
      "cell_type": "code",
      "execution_count": null,
      "metadata": {
        "id": "llkCDj7vReUN"
      },
      "outputs": [],
      "source": [
        "# !mamba env create -f conda_env.yml\n",
        "# !conda remove -n urlb --allyy"
      ]
    },
    {
      "cell_type": "code",
      "execution_count": null,
      "metadata": {
        "id": "FYiwSg_Phs2N"
      },
      "outputs": [],
      "source": [
        "# !conda env list"
      ]
    },
    {
      "cell_type": "code",
      "execution_count": null,
      "metadata": {
        "id": "8l5Ybx4_H6Z5"
      },
      "outputs": [],
      "source": [
        "### run in terminal\n",
        "# sudo ln -s /opt/conda/root/etc/profile.d/conda.sh /etc/profile.d/conda.s\n",
        "# mamba init bash\n",
        "# mamba activate urlb\n",
        "# !mamba env update -n base -f conda_env.yml"
      ]
    },
    {
      "cell_type": "markdown",
      "metadata": {
        "id": "2kgdHO7wn1p_"
      },
      "source": [
        "# The Unsupervised Reinforcement Learning Benchmark (URLB)\n",
        "\n",
        "URLB provides a set of leading algorithms for unsupervised reinforcement learning where agents first pre-train without access to extrinsic rewards and then are finetuned to downstream tasks.\n",
        "\n",
        "This codebase was adapted from [DrQv2](https://github.com/facebookresearch/drqv2). The DDPG agent and training scripts were developed by Denis Yarats. All authors contributed to developing individual baselines for URLB.\n",
        "\n",
        "## Requirements\n",
        "We assume you have access to a GPU that can run CUDA 10.2 and CUDNN 8. Then, the simplest way to install all required dependencies is to create an anaconda environment by running\n",
        "```sh\n",
        "conda env create -f conda_env.yml\n",
        "```\n",
        "After the instalation ends you can activate your environment with\n",
        "```sh\n",
        "conda activate urlb\n",
        "```\n",
        "\n",
        "## Implemented Agents\n",
        "| Agent | Command | Implementation Author(s) | Paper |\n",
        "|---|---|---|---|\n",
        "| ICM | `agent=icm` | Denis | [paper](https://arxiv.org/abs/1705.05363)|\n",
        "| ProtoRL | `agent=proto` | Denis | [paper](https://arxiv.org/abs/2102.11271)|\n",
        "| DIAYN | `agent=diayn` | Misha | [paper](https://arxiv.org/abs/1802.06070)|\n",
        "| APT(ICM) | `agent=icm_apt` | Hao, Kimin | [paper](https://arxiv.org/abs/2103.04551)|\n",
        "| APT(Ind) | `agent=ind_apt` | Hao, Kimin | [paper](https://arxiv.org/abs/2103.04551)|\n",
        "| APS | `agent=aps` | Hao, Kimin | [paper](http://proceedings.mlr.press/v139/liu21b.html)|\n",
        "| SMM | `agent=smm` | Albert | [paper](https://arxiv.org/abs/1906.05274) |\n",
        "| RND | `agent=rnd` | Kevin | [paper](https://arxiv.org/abs/1810.12894) |\n",
        "| Disagreement | `agent=disagreement` | Catherine | [paper](https://arxiv.org/abs/1906.04161) |\n",
        "\n",
        "## Available Domains\n",
        "We support the following domains.\n",
        "|| Domain | Tasks |\n",
        "|---|---|\n",
        "| `walker` | `stand`, `walk`, `run`, `flip` |\n",
        "| `quadruped` | `walk`, `run`, `stand`, `jump` |\n",
        "| `jaco` | `reach_top_left`, `reach_top_right`, `reach_bottom_left`,`reach_bottom_right` |\n",
        "## Domain observation mode\n",
        "Each domain supports two observation modes: states and pixels.\n",
        "| Model | Command |\n",
        "|---|---|\n",
        "| states | `obs_type=states` |\n",
        "| pixels | `obs_type=pixels` |\n",
        "## Instructions\n",
        "### Pre-training\n",
        "To run pre-training use the `pretrain.py` script\n",
        "```sh\n",
        "python pretrain.py agent=icm domain=walker\n",
        "```\n",
        "or, if you want to train a skill-based agent, like DIAYN, run:\n",
        "```sh\n",
        "python pretrain.py agent=diayn domain=walker\n",
        "```\n",
        "This script will produce several agent snapshots after training for `100k`, `500k`, `1M`, and `2M` frames. The snapshots will be stored under the following directory:\n",
        "```sh\n",
        "./pretrained_models/<obs_type>/<domain>/<agent>/\n",
        "```\n",
        "For example:\n",
        "```sh\n",
        "./pretrained_models/states/walker/icm/\n",
        "```\n",
        "\n",
        "### Fine-tuning\n",
        "Once you have pre-trained your method, you can use the saved snapshots to initialize the `DDPG` agent and fine-tune it on a downstream task. For example, let's say you have pre-trained `ICM`, you can fine-tune it on `walker_run` by running the following command:\n",
        "```sh\n",
        "python finetune.py pretrained_agent=icm task=walker_run snapshot_ts=1000000 obs_type=states\n",
        "```\n",
        "This will load a snapshot stored in `./pretrained_models/states/walker/icm/snapshot_1000000.pt`, initialize `DDPG` with it (both the actor and critic), and start training on `walker_run` using the extrinsic reward of the task.\n",
        "\n",
        "For methods that use skills, include the agent, and the `reward_free` tag to false.\n",
        "```sh\n",
        "python finetune.py pretrained_agent=smm task=walker_run snapshot_ts=1000000 obs_type=states agent=smm reward_free=false\n",
        "```\n",
        "\n",
        "### Monitoring\n",
        "Logs are stored in the `exp_local` folder. To launch tensorboard run:\n",
        "```sh\n",
        "tensorboard --logdir exp_local\n",
        "```\n",
        "The console output is also available in a form:\n",
        "```\n",
        "| train | F: 6000 | S: 3000 | E: 6 | L: 1000 | R: 5.5177 | FPS: 96.7586 | T: 0:00:42\n",
        "```\n",
        "a training entry decodes as\n",
        "```\n",
        "F  : total number of environment frames\n",
        "S  : total number of agent steps\n",
        "E  : total number of episodes\n",
        "R  : episode return, episode_reward: total_reward / episode\n",
        "FPS: training throughput (frames per second)\n",
        "T  : total training time\n",
        "L  : episode_length: step * self.cfg.action_repeat / episode\n",
        "\n",
        "```\n"
      ]
    }
  ],
  "metadata": {
    "accelerator": "GPU",
    "colab": {
      "machine_shape": "hm",
      "provenance": [],
      "include_colab_link": true
    },
    "gpuClass": "standard",
    "kernelspec": {
      "display_name": "Python 3",
      "name": "python3"
    },
    "language_info": {
      "name": "python"
    }
  },
  "nbformat": 4,
  "nbformat_minor": 0
}